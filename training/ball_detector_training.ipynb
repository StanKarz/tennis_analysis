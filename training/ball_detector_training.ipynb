{
 "cells": [
  {
   "cell_type": "markdown",
   "metadata": {},
   "source": [
    "# Get Dataset"
   ]
  },
  {
   "cell_type": "markdown",
   "metadata": {},
   "source": [
    "!pip install roboflow"
   ]
  },
  {
   "cell_type": "code",
   "execution_count": 1,
   "metadata": {},
   "outputs": [
    {
     "name": "stdout",
     "output_type": "stream",
     "text": [
      "loading Roboflow workspace...\n",
      "loading Roboflow project...\n"
     ]
    },
    {
     "name": "stderr",
     "output_type": "stream",
     "text": [
      "Downloading Dataset Version Zip in tennis-ball-detection-final-1 to yolov5pytorch:: 100%|██████████| 221425/221425 [00:53<00:00, 4173.03it/s]"
     ]
    },
    {
     "name": "stdout",
     "output_type": "stream",
     "text": [
      "\n"
     ]
    },
    {
     "name": "stderr",
     "output_type": "stream",
     "text": [
      "\n",
      "Extracting Dataset Version Zip to tennis-ball-detection-final-1 in yolov5pytorch:: 100%|██████████| 4681/4681 [00:00<00:00, 8287.09it/s]\n"
     ]
    }
   ],
   "source": [
    "from roboflow import Roboflow\n",
    "rf = Roboflow(api_key=\"pdMgovjBJVklsz3rr36u\")\n",
    "project = rf.workspace(\"tennisanalysis-5huqh\").project(\"tennis-ball-detection-final\")\n",
    "version = project.version(1)\n",
    "dataset = version.download(\"yolov5\")"
   ]
  },
  {
   "cell_type": "code",
   "execution_count": 4,
   "metadata": {},
   "outputs": [],
   "source": [
    "import shutil\n",
    "import os \n",
    "import random"
   ]
  },
  {
   "cell_type": "code",
   "execution_count": 3,
   "metadata": {},
   "outputs": [
    {
     "data": {
      "text/plain": [
       "'tennis-ball-detection-final-1/tennis-ball-detection-final-1/test'"
      ]
     },
     "execution_count": 3,
     "metadata": {},
     "output_type": "execute_result"
    }
   ],
   "source": [
    "shutil.move(\"tennis-ball-detection-final-1/train\", \n",
    "            \"tennis-ball-detection-final-1/tennis-ball-detection-final-1/train\") \n",
    "\n",
    "shutil.move(\"tennis-ball-detection-final-1/valid\", \n",
    "            \"tennis-ball-detection-final-1/tennis-ball-detection-final-1/valid\") \n",
    "\n",
    "shutil.move(\"tennis-ball-detection-final-1/test\", \n",
    "            \"tennis-ball-detection-final-1/tennis-ball-detection-final-1/test\") "
   ]
  },
  {
   "cell_type": "code",
   "execution_count": 7,
   "metadata": {},
   "outputs": [
    {
     "data": {
      "text/plain": [
       "'/Users/stan/Desktop/tennis_analysis/training'"
      ]
     },
     "execution_count": 7,
     "metadata": {},
     "output_type": "execute_result"
    }
   ],
   "source": [
    "os.getcwd()"
   ]
  },
  {
   "cell_type": "code",
   "execution_count": 8,
   "metadata": {},
   "outputs": [
    {
     "name": "stdout",
     "output_type": "stream",
     "text": [
      "Dataset balancing complete.\n"
     ]
    }
   ],
   "source": [
    "import os\n",
    "import shutil\n",
    "import random\n",
    "\n",
    "# Define paths\n",
    "train_images_dir = 'tennis-ball-detection-final-1/tennis-ball-detection-final-1/train/images'\n",
    "train_labels_dir = 'tennis-ball-detection-final-1/tennis-ball-detection-final-1/train/labels'\n",
    "\n",
    "valid_images_dir = 'tennis-ball-detection-final-1/tennis-ball-detection-final-1/valid/images'\n",
    "valid_labels_dir = 'tennis-ball-detection-final-1/tennis-ball-detection-final-1/valid/labels'\n",
    "\n",
    "test_images_dir = 'tennis-ball-detection-final-1/tennis-ball-detection-final-1/test/images'\n",
    "test_labels_dir = 'tennis-ball-detection-final-1/tennis-ball-detection-final-1/test/labels'\n",
    "\n",
    "# Get list of filenames in each set\n",
    "train_images = os.listdir(train_images_dir)\n",
    "valid_images = os.listdir(valid_images_dir)\n",
    "test_images = os.listdir(test_images_dir)\n",
    "\n",
    "# Calculate total number of images\n",
    "total_images = len(train_images) + len(valid_images) + len(test_images)\n",
    "\n",
    "# Desired numbers\n",
    "desired_train = int(0.7 * total_images)\n",
    "desired_valid = int(0.2 * total_images)\n",
    "desired_test = int(0.1 * total_images)\n",
    "\n",
    "# Function to move files\n",
    "def move_files(image_list, source_img_dir, source_lbl_dir, target_img_dir, target_lbl_dir, num_to_move):\n",
    "    files_moved = []\n",
    "    files_to_move = random.sample(image_list, num_to_move)\n",
    "    for file_name in files_to_move:\n",
    "        try:\n",
    "            # Move image\n",
    "            shutil.move(os.path.join(source_img_dir, file_name), os.path.join(target_img_dir, file_name))\n",
    "            \n",
    "            # Move corresponding label\n",
    "            label_name = file_name.replace('.jpg', '.txt')\n",
    "            shutil.move(os.path.join(source_lbl_dir, label_name), os.path.join(target_lbl_dir, label_name))\n",
    "            \n",
    "            files_moved.append(file_name)\n",
    "        except FileNotFoundError:\n",
    "            print(f\"File not found: {file_name}. Skipping.\")\n",
    "            \n",
    "    # Remove moved files from the original list\n",
    "    for file_name in files_moved:\n",
    "        image_list.remove(file_name)\n",
    "\n",
    "# Adjust the dataset by moving images from train to valid/test\n",
    "if len(train_images) > desired_train:\n",
    "    excess_train = len(train_images) - desired_train\n",
    "    if len(valid_images) < desired_valid:\n",
    "        valid_needed = min(desired_valid - len(valid_images), excess_train)\n",
    "        move_files(train_images, train_images_dir, train_labels_dir, valid_images_dir, valid_labels_dir, valid_needed)\n",
    "        excess_train -= valid_needed\n",
    "    if len(test_images) < desired_test:\n",
    "        test_needed = min(desired_test - len(test_images), excess_train)\n",
    "        move_files(train_images, train_images_dir, train_labels_dir, test_images_dir, test_labels_dir, test_needed)\n",
    "\n",
    "# If necessary, balance validation and test sets\n",
    "if len(valid_images) > desired_valid:\n",
    "    excess_valid = len(valid_images) - desired_valid\n",
    "    move_files(valid_images, valid_images_dir, valid_labels_dir, test_images_dir, test_labels_dir, excess_valid)\n",
    "elif len(test_images) > desired_test:\n",
    "    excess_test = len(test_images) - desired_test\n",
    "    move_files(test_images, test_images_dir, test_labels_dir, valid_images_dir, valid_labels_dir, excess_test)\n",
    "\n",
    "print(\"Dataset balancing complete.\")"
   ]
  },
  {
   "cell_type": "code",
   "execution_count": null,
   "metadata": {},
   "outputs": [],
   "source": [
    "!yolo task=detect mode=train model=yolov516u.pt data={dataset.location}/data.yaml epochs=100 imgsz=640 "
   ]
  }
 ],
 "metadata": {
  "kernelspec": {
   "display_name": "tennis_env",
   "language": "python",
   "name": "python3"
  },
  "language_info": {
   "codemirror_mode": {
    "name": "ipython",
    "version": 3
   },
   "file_extension": ".py",
   "mimetype": "text/x-python",
   "name": "python",
   "nbconvert_exporter": "python",
   "pygments_lexer": "ipython3",
   "version": "3.11.4"
  }
 },
 "nbformat": 4,
 "nbformat_minor": 2
}
